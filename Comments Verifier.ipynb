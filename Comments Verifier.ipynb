{
 "cells": [
  {
   "cell_type": "code",
   "execution_count": 37,
   "metadata": {
    "collapsed": true
   },
   "outputs": [],
   "source": [
    "# coding=utf8\n",
    "from SentenceParserPython3 import SentenceParser\n",
    "import pandas as pd\n",
    "import numpy as np\n",
    "from bs4 import BeautifulSoup\n",
    "import sys\n",
    "import re\n",
    "def printProgressBar (iteration, total, prefix = '', suffix = '', decimals = 1, length = 100, fill = '='):\n",
    "    percent = (\"{0:.\" + str(decimals) + \"f}\").format(100 * (iteration / float(total)))\n",
    "    filledLength = int(length * iteration // total)\n",
    "    bar = fill * filledLength + '.' * (length - filledLength)\n",
    "    sys.stdout.write('\\r%s |%s| %s%% %s' % (prefix, bar, percent, suffix))\n",
    "    sys.stdout.flush()"
   ]
  },
  {
   "cell_type": "code",
   "execution_count": 40,
   "metadata": {
    "collapsed": false
   },
   "outputs": [
    {
     "data": {
      "text/plain": [
       "([],\n",
       " '\\n\\n[Git Change 2081e0570c0c63a6c90c15194d4667098502eea0 by Michael Frydrych \\n(Branch: dev-gfx Repo: tegra/tests-graphics/android)] \\n\\nhwcomposer: use correct egl context\\n\\nEgl context needs to be reactivated after the control returns from\\nhwcomposer set back to the test. At least the compression tests\\ndefined in test_gl_compression.cpp have had this fault. Failure to\\nreactivate its own egl context may have led to destruction of objects\\nfrom hwcomposer context which has been active at that time.\\n\\nBug 1899629\\n\\nChange-Id: I98b6f75d61d9f5b1514f051f9beafcf0732a92aa\\nReviewed-on: http://git-master/r/1490341\\n(cherry picked from commit 0935ae6f713d05497e7ab832e6ddd48ea567a0d6)\\nReviewed-on: http://git-master/r/1493015\\nReviewed-by: Michael Frydrych <mfrydrych@nvidia.com>\\nTested-by: Michael Frydrych <mfrydrych@nvidia.com>\\n')"
      ]
     },
     "execution_count": 40,
     "metadata": {},
     "output_type": "execute_result"
    }
   ],
   "source": [
    "def matchgit(test_str):\n",
    "    teststr = re.sub(r'[\\n\\r\\t\\a\\b]+', ' ', test_str)\n",
    "    pattern =  r'\\[Git Change .*\\](.*)Bug ([0-9]+)'\n",
    "    templist = []\n",
    "    for item in re.findall(pattern, test_str):\n",
    "        templist.append(item[0])\n",
    "    return templist, re.sub(pattern, ' ', test_str)\n",
    "\n",
    "matchgit(mystr)"
   ]
  },
  {
   "cell_type": "code",
   "execution_count": 38,
   "metadata": {
    "collapsed": false
   },
   "outputs": [],
   "source": [
    "mystr = \"\"\"\n",
    "\n",
    "[Git Change 2081e0570c0c63a6c90c15194d4667098502eea0 by Michael Frydrych \n",
    "(Branch: dev-gfx Repo: tegra/tests-graphics/android)] \n",
    "\n",
    "hwcomposer: use correct egl context\n",
    "\n",
    "Egl context needs to be reactivated after the control returns from\n",
    "hwcomposer set back to the test. At least the compression tests\n",
    "defined in test_gl_compression.cpp have had this fault. Failure to\n",
    "reactivate its own egl context may have led to destruction of objects\n",
    "from hwcomposer context which has been active at that time.\n",
    "\n",
    "Bug 1899629\n",
    "\n",
    "Change-Id: I98b6f75d61d9f5b1514f051f9beafcf0732a92aa\n",
    "Reviewed-on: http://git-master/r/1490341\n",
    "(cherry picked from commit 0935ae6f713d05497e7ab832e6ddd48ea567a0d6)\n",
    "Reviewed-on: http://git-master/r/1493015\n",
    "Reviewed-by: Michael Frydrych <mfrydrych@nvidia.com>\n",
    "Tested-by: Michael Frydrych <mfrydrych@nvidia.com>\n",
    "\"\"\""
   ]
  },
  {
   "cell_type": "code",
   "execution_count": null,
   "metadata": {
    "collapsed": true
   },
   "outputs": [],
   "source": []
  }
 ],
 "metadata": {
  "kernelspec": {
   "display_name": "Python 3",
   "language": "python",
   "name": "python3"
  },
  "language_info": {
   "codemirror_mode": {
    "name": "ipython",
    "version": 3
   },
   "file_extension": ".py",
   "mimetype": "text/x-python",
   "name": "python",
   "nbconvert_exporter": "python",
   "pygments_lexer": "ipython3",
   "version": "3.5.2"
  }
 },
 "nbformat": 4,
 "nbformat_minor": 2
}
